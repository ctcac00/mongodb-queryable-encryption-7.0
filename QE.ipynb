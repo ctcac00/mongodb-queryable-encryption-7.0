{
 "cells": [
  {
   "cell_type": "code",
   "execution_count": null,
   "id": "37329618-cf5c-456c-b888-0ff6670c77a4",
   "metadata": {},
   "outputs": [],
   "source": [
    "from pymongo import MongoClient, ASCENDING\n",
    "from pymongo.encryption import (ClientEncryption, QueryType)\n",
    "from pymongo.encryption_options import AutoEncryptionOpts\n",
    "from bson.codec_options import CodecOptions\n",
    "from bson.binary import STANDARD, UUID\n",
    "import os\n",
    "from dotenv import load_dotenv\n",
    "\n",
    "load_dotenv()\n",
    "\n",
    "\n",
    "# KMS provider name should be one of the following: \"aws\", \"gcp\", \"azure\", \"kmip\" or \"local\"\n",
    "kms_provider_name = \"local\"\n",
    "\n",
    "uri = os.environ['MONGODB_URI']  # Your connection URI\n",
    "\n",
    "key_vault_database_name = \"encryption\"\n",
    "key_vault_collection_name = \"__keyVault\"\n",
    "key_vault_namespace = f\"{key_vault_database_name}.{key_vault_collection_name}\"\n",
    "encrypted_database_name = \"medicalRecords\"\n",
    "encrypted_collection_name = \"patients\""
   ]
  },
  {
   "cell_type": "code",
   "execution_count": null,
   "id": "7ec61969-9fa9-4b54-82ee-40c50d01f3f5",
   "metadata": {},
   "outputs": [],
   "source": [
    "path = \"customer-master-key.txt\"\n",
    "file_bytes = os.urandom(96)\n",
    "with open(path, \"wb\") as f:\n",
    "    f.write(file_bytes)"
   ]
  },
  {
   "cell_type": "code",
   "execution_count": null,
   "id": "7263d9ff-e5b7-4784-8392-c1e05e63191d",
   "metadata": {},
   "outputs": [],
   "source": [
    "path = \"./customer-master-key.txt\"\n",
    "with open(path, \"rb\") as f:\n",
    "    local_master_key = f.read()\n",
    "    kms_provider_credentials = {\n",
    "        \"local\": {\n",
    "            \"key\": local_master_key\n",
    "        },\n",
    "    }"
   ]
  },
  {
   "cell_type": "code",
   "execution_count": null,
   "id": "e2d3598f-6b6f-436a-85f9-f95cc81fce07",
   "metadata": {},
   "outputs": [],
   "source": [
    "auto_encryption_options = AutoEncryptionOpts(\n",
    "    kms_provider_credentials,\n",
    "    key_vault_namespace,\n",
    "    crypt_shared_lib_path=os.environ['SHARED_LIB_PATH'] # Path to your Automatic Encryption Shared Library>\n",
    ")"
   ]
  },
  {
   "cell_type": "code",
   "execution_count": null,
   "id": "9ae3f52c-20f3-4092-8034-b2c641ee6073",
   "metadata": {},
   "outputs": [],
   "source": [
    "encrypted_client = MongoClient(uri, auto_encryption_opts=auto_encryption_options)"
   ]
  },
  {
   "cell_type": "code",
   "execution_count": null,
   "id": "4420efe1-44d2-43f1-b236-1a3c9453f5d8",
   "metadata": {},
   "outputs": [],
   "source": [
    "encrypted_fields_map = {\n",
    "    \"fields\": [\n",
    "        {\n",
    "            \"path\": \"patientRecord.ssn\",\n",
    "            \"bsonType\": \"string\",\n",
    "            \"queries\": [{\"queryType\": \"equality\"}]\n",
    "        },\n",
    "        {\n",
    "            \"path\": \"patientRecord.billing\",\n",
    "            \"bsonType\": \"object\",\n",
    "        }\n",
    "    ]\n",
    "}"
   ]
  },
  {
   "cell_type": "code",
   "execution_count": null,
   "id": "d6fc79a6-6f95-41ea-b522-455bb8764ced",
   "metadata": {},
   "outputs": [],
   "source": [
    "client_encryption = ClientEncryption(\n",
    "    kms_providers=kms_provider_credentials,\n",
    "    key_vault_namespace=key_vault_namespace,\n",
    "    key_vault_client=encrypted_client,\n",
    "    codec_options=CodecOptions(uuid_representation=STANDARD)\n",
    ")"
   ]
  },
  {
   "cell_type": "code",
   "execution_count": null,
   "id": "2c746df3-0f3d-4000-a517-f5ce87d516e1",
   "metadata": {},
   "outputs": [],
   "source": [
    "customer_master_key_credentials = {}"
   ]
  },
  {
   "cell_type": "code",
   "execution_count": null,
   "id": "5bdd1e51",
   "metadata": {},
   "outputs": [],
   "source": [
    "encrypted_client[encrypted_database_name].drop_collection(encrypted_collection_name)"
   ]
  },
  {
   "cell_type": "code",
   "execution_count": null,
   "id": "3f2d3028-2791-47c5-a9a5-6fe7075a55c9",
   "metadata": {},
   "outputs": [],
   "source": [
    "client_encryption.create_encrypted_collection(\n",
    "    encrypted_client[encrypted_database_name],\n",
    "    encrypted_collection_name,\n",
    "    encrypted_fields_map,\n",
    "    kms_provider_name,\n",
    "    customer_master_key_credentials,\n",
    ")"
   ]
  },
  {
   "cell_type": "code",
   "execution_count": null,
   "id": "e38424ce-1a75-4601-b906-2e4036f1382c",
   "metadata": {},
   "outputs": [],
   "source": [
    "patient_document = {\n",
    "    \"patientName\": \"Jon Doe\",\n",
    "    \"patientId\": 12345678,\n",
    "    \"patientRecord\": {\n",
    "        \"ssn\": \"987-65-4320\",\n",
    "        \"billing\": {\n",
    "            \"type\": \"Visa\",\n",
    "            \"number\": \"4111111111111111\",\n",
    "        },\n",
    "    },\n",
    "}\n",
    "\n",
    "encrypted_collection = encrypted_client[encrypted_database_name][encrypted_collection_name]\n",
    "\n",
    "result = encrypted_collection.insert_one(patient_document)"
   ]
  },
  {
   "cell_type": "code",
   "execution_count": null,
   "id": "c6a93afd-035b-4542-b2a2-2407fff0c58a",
   "metadata": {},
   "outputs": [],
   "source": [
    "find_result = encrypted_collection.find_one({\n",
    "    \"patientRecord.ssn\": \"987-65-4320\"\n",
    "})\n",
    "\n",
    "print(find_result)"
   ]
  },
  {
   "cell_type": "code",
   "execution_count": null,
   "id": "9c6cd71d-b0b9-4682-9f90-020133ad38da",
   "metadata": {},
   "outputs": [],
   "source": []
  }
 ],
 "metadata": {
  "kernelspec": {
   "display_name": "Python 3 (ipykernel)",
   "language": "python",
   "name": "python3"
  },
  "language_info": {
   "codemirror_mode": {
    "name": "ipython",
    "version": 3
   },
   "file_extension": ".py",
   "mimetype": "text/x-python",
   "name": "python",
   "nbconvert_exporter": "python",
   "pygments_lexer": "ipython3",
   "version": "3.11.1"
  }
 },
 "nbformat": 4,
 "nbformat_minor": 5
}
