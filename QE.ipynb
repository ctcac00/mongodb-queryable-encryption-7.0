{
 "cells": [
  {
   "cell_type": "markdown",
   "id": "c188b52b",
   "metadata": {},
   "source": [
    "# Notes\n",
    "\n",
    "Make sure you've created the _.env_ file and updated the __MONGODB_URI__ as well as the __SHARED_LIB_PATH__ before you start running this notebook.\n",
    "\n",
    "This notebook uses *local* encryption mode which is not recommended in a production environment and should only be used for learning purposes."
   ]
  },
  {
   "cell_type": "markdown",
   "id": "6ab148f6",
   "metadata": {},
   "source": [
    "# Assign Your Application Variables\n",
    "\n",
    "The code samples in this tutorial use the following variables to perform the Queryable Encryption workflow:\n",
    "\n",
    " - kms_provider_name - The KMS you're using to store your Customer Master Key. Set this variable to \"local\" for this tutorial.\n",
    "\n",
    " - uri - Your MongoDB deployment connection URI. Set your connection URI in the MONGODB_URI environment variable or replace the value directly.\n",
    "\n",
    " - key_vault_database_name - The database in MongoDB where your data encryption keys (DEKs) will be stored. Set this variable to \"encryption\".\n",
    "\n",
    " - key_vault_collection_name - The collection in MongoDB where your DEKs will be stored. Set this variable to \"__keyVault\".\n",
    "\n",
    " - key_vault_namespace - The namespace in MongoDB where your DEKs will be stored. Set this variable to the values of the key_vault_database_name and key_vault_collection_name variables, separated by a period.\n",
    "\n",
    " - encrypted_database_name - The database in MongoDB where your encrypted data will be stored. Set this variable to \"medicalRecords\".\n",
    "\n",
    " - encrypted_collection_name - The collection in MongoDB where your encrypted data will be stored. Set this variable to \"patients\".\n",
    "\n",
    "You can declare these variables by using the following code:"
   ]
  },
  {
   "cell_type": "code",
   "execution_count": null,
   "id": "37329618-cf5c-456c-b888-0ff6670c77a4",
   "metadata": {},
   "outputs": [],
   "source": [
    "from pymongo import MongoClient, ASCENDING\n",
    "from pymongo.encryption import (ClientEncryption)\n",
    "from pymongo.encryption_options import AutoEncryptionOpts\n",
    "from bson.codec_options import CodecOptions\n",
    "from bson.binary import STANDARD, UUID\n",
    "import os\n",
    "from pprint import pprint\n",
    "from dotenv import load_dotenv\n",
    "\n",
    "load_dotenv()\n",
    "\n",
    "kms_provider_name = \"local\"\n",
    "\n",
    "uri = os.environ['MONGODB_URI']  # Your connection URI\n",
    "\n",
    "key_vault_database_name = \"encryption\"\n",
    "key_vault_collection_name = \"__keyVault\"\n",
    "key_vault_namespace = f\"{key_vault_database_name}.{key_vault_collection_name}\"\n",
    "encrypted_database_name = \"medicalRecords\"\n",
    "encrypted_collection_name = \"patients\""
   ]
  },
  {
   "cell_type": "markdown",
   "id": "417fd744",
   "metadata": {},
   "source": [
    "# Create a Customer Master Key\n",
    "\n",
    "You must create a Customer Master Key (CMK) to perform Queryable Encryption.\n",
    "\n",
    "Create a 96-byte Customer Master Key and save it to your filesystem as the file *customer-master-key.txt*:"
   ]
  },
  {
   "cell_type": "code",
   "execution_count": null,
   "id": "7ec61969-9fa9-4b54-82ee-40c50d01f3f5",
   "metadata": {},
   "outputs": [],
   "source": [
    "path = \"customer-master-key.txt\"\n",
    "file_bytes = os.urandom(96)\n",
    "with open(path, \"wb\") as f:\n",
    "    f.write(file_bytes)"
   ]
  },
  {
   "cell_type": "markdown",
   "id": "284017b5",
   "metadata": {},
   "source": [
    "# Retrieve the Customer Master Key and Specify KMS Provider Settings\n",
    "\n",
    "Retrieve the contents of the Customer Master Key file that you generated in the previous step.\n",
    "\n",
    "Pass the CMK value to your KMS provider settings. The client uses these settings to discover the CMK. Set the provider name to local to inform the driver you are using a Local Key Provider."
   ]
  },
  {
   "cell_type": "code",
   "execution_count": null,
   "id": "7263d9ff-e5b7-4784-8392-c1e05e63191d",
   "metadata": {},
   "outputs": [],
   "source": [
    "path = \"./customer-master-key.txt\"\n",
    "with open(path, \"rb\") as f:\n",
    "    local_master_key = f.read()\n",
    "    kms_provider_credentials = {\n",
    "        \"local\": {\n",
    "            \"key\": local_master_key\n",
    "        },\n",
    "    }"
   ]
  },
  {
   "cell_type": "markdown",
   "id": "f21ed4be",
   "metadata": {},
   "source": [
    "# Set Your Automatic Encryption Options\n",
    "\n",
    "Create an AutoEncryptionOpts object that contains the following options:\n",
    "\n",
    " - The kms_provider_credentials object, defined in the previous step\n",
    "\n",
    " - The namespace of your Key Vault collection\n",
    "\n",
    " - The path to your Automatic Encryption Shared Library"
   ]
  },
  {
   "cell_type": "code",
   "execution_count": null,
   "id": "e2d3598f-6b6f-436a-85f9-f95cc81fce07",
   "metadata": {},
   "outputs": [],
   "source": [
    "auto_encryption_options = AutoEncryptionOpts(\n",
    "    kms_provider_credentials,\n",
    "    key_vault_namespace,\n",
    "    crypt_shared_lib_path=os.environ['SHARED_LIB_PATH'] # Path to your Automatic Encryption Shared Library>\n",
    ")"
   ]
  },
  {
   "cell_type": "markdown",
   "id": "63af5586",
   "metadata": {},
   "source": [
    "# Create a Client to Set Up an Encrypted Collection\n",
    "\n",
    "To create a client used to encrypt and decrypt data in your collection, instantiate a new _MongoClient_ by using your connection URI and your automatic encryption options."
   ]
  },
  {
   "cell_type": "code",
   "execution_count": null,
   "id": "9ae3f52c-20f3-4092-8034-b2c641ee6073",
   "metadata": {},
   "outputs": [],
   "source": [
    "encrypted_client = MongoClient(uri, auto_encryption_opts=auto_encryption_options)"
   ]
  },
  {
   "cell_type": "markdown",
   "id": "99fd3f6f",
   "metadata": {},
   "source": [
    "# Specify Fields to Encrypt\n",
    "\n",
    "To encrypt a field, add it to the encryption schema. To enable queries on a field, add the \"queries\" property. Create the encryption schema as follows:"
   ]
  },
  {
   "cell_type": "code",
   "execution_count": null,
   "id": "4420efe1-44d2-43f1-b236-1a3c9453f5d8",
   "metadata": {},
   "outputs": [],
   "source": [
    "encrypted_fields_map = {\n",
    "    \"fields\": [\n",
    "        {\n",
    "            \"path\": \"patientRecord.ssn\",\n",
    "            \"bsonType\": \"string\",\n",
    "            \"queries\": [{\"queryType\": \"equality\"}]\n",
    "        },\n",
    "        {\n",
    "            \"path\": \"patientRecord.billing\",\n",
    "            \"bsonType\": \"object\",\n",
    "        }\n",
    "    ]\n",
    "}"
   ]
  },
  {
   "cell_type": "markdown",
   "id": "2cde88a9",
   "metadata": {},
   "source": [
    "# Create the Collection\n",
    "\n",
    "Instantiate _ClientEncryption_ to access the API for the encryption helper methods."
   ]
  },
  {
   "cell_type": "code",
   "execution_count": null,
   "id": "d6fc79a6-6f95-41ea-b522-455bb8764ced",
   "metadata": {},
   "outputs": [],
   "source": [
    "client_encryption = ClientEncryption(\n",
    "    kms_providers=kms_provider_credentials,\n",
    "    key_vault_namespace=key_vault_namespace,\n",
    "    key_vault_client=encrypted_client,\n",
    "    codec_options=CodecOptions(uuid_representation=STANDARD)\n",
    ")"
   ]
  },
  {
   "cell_type": "markdown",
   "id": "3b137dcb",
   "metadata": {},
   "source": [
    "Because you are using a local Customer Master Key, you don't need to provide Customer Master Key credentials. Create a variable containing an empty object to use in place of credentials when you create your encrypted collection."
   ]
  },
  {
   "cell_type": "code",
   "execution_count": null,
   "id": "2c746df3-0f3d-4000-a517-f5ce87d516e1",
   "metadata": {},
   "outputs": [],
   "source": [
    "customer_master_key_credentials = {}"
   ]
  },
  {
   "cell_type": "markdown",
   "id": "9a38e482",
   "metadata": {},
   "source": [
    "Drop the collection first in case it already exists. (Prevents an error if you are re-running this notebook)"
   ]
  },
  {
   "cell_type": "code",
   "execution_count": null,
   "id": "5bdd1e51",
   "metadata": {},
   "outputs": [],
   "source": [
    "encrypted_client[encrypted_database_name].drop_collection(encrypted_collection_name)"
   ]
  },
  {
   "cell_type": "markdown",
   "id": "ff81001a",
   "metadata": {},
   "source": [
    "Create your encrypted collection by using the encryption helper method accessed through the ClientEncryption class. This method automatically generates data encryption keys for your encrypted fields and creates the encrypted collection:"
   ]
  },
  {
   "cell_type": "code",
   "execution_count": null,
   "id": "3f2d3028-2791-47c5-a9a5-6fe7075a55c9",
   "metadata": {},
   "outputs": [],
   "source": [
    "client_encryption.create_encrypted_collection(\n",
    "    encrypted_client[encrypted_database_name],\n",
    "    encrypted_collection_name,\n",
    "    encrypted_fields_map,\n",
    "    kms_provider_name,\n",
    "    customer_master_key_credentials,\n",
    ")"
   ]
  },
  {
   "cell_type": "markdown",
   "id": "1c0481e1",
   "metadata": {},
   "source": [
    "# Insert a Document with Encrypted Fields\n",
    "\n",
    "\n",
    "Insert a Document with Encrypted Fields\n",
    "Create a sample document that describes a patient's personal information. Use the encrypted client to insert it into the _patients_ collection, as shown in the following example:"
   ]
  },
  {
   "cell_type": "code",
   "execution_count": null,
   "id": "e38424ce-1a75-4601-b906-2e4036f1382c",
   "metadata": {},
   "outputs": [],
   "source": [
    "patient_document = {\n",
    "    \"patientName\": \"Jon Doe\",\n",
    "    \"patientId\": 12345678,\n",
    "    \"patientRecord\": {\n",
    "        \"ssn\": \"987-65-4320\",\n",
    "        \"billing\": {\n",
    "            \"type\": \"Visa\",\n",
    "            \"number\": \"4111111111111111\",\n",
    "        },\n",
    "    },\n",
    "}\n",
    "\n",
    "encrypted_collection = encrypted_client[encrypted_database_name][encrypted_collection_name]\n",
    "\n",
    "result = encrypted_collection.insert_one(patient_document)"
   ]
  },
  {
   "cell_type": "markdown",
   "id": "6eb10744",
   "metadata": {},
   "source": [
    "# Query on an Encrypted Field\n",
    "\n",
    "The following code sample executes a find query on an encrypted field and prints the decrypted data:"
   ]
  },
  {
   "cell_type": "code",
   "execution_count": null,
   "id": "c6a93afd-035b-4542-b2a2-2407fff0c58a",
   "metadata": {},
   "outputs": [],
   "source": [
    "find_result = encrypted_collection.find_one({\n",
    "    \"patientRecord.ssn\": \"987-65-4320\"\n",
    "})\n",
    "\n",
    "pprint(find_result)"
   ]
  },
  {
   "cell_type": "markdown",
   "id": "9ef9835e",
   "metadata": {},
   "source": [
    "The output of the preceding code sample should look similar to the following:\n",
    "\n",
    "```json\n",
    "{\n",
    "  \"_id\": {\n",
    "    \"$oid\": \"648b384a722cb9b8392df76a\"\n",
    "  },\n",
    "  \"name\": \"Jon Doe\",\n",
    "  \"record\": {\n",
    "    \"ssn\": \"987-65-4320\",\n",
    "    \"billing\": {\n",
    "      \"type\": \"Visa\",\n",
    "      \"number\": \"4111111111111111\"\n",
    "    }\n",
    "  },\n",
    "  \"__safeContent__\": [\n",
    "    {\n",
    "      \"$binary\": {\n",
    "        \"base64\": \"L1NsYItk0Sg+oL66DBj6IYHbX7tveANQyrU2cvMzD9Y=\",\n",
    "        \"subType\": \"00\"\n",
    "      }\n",
    "    }\n",
    "  ]\n",
    "}\n",
    "```"
   ]
  }
 ],
 "metadata": {
  "kernelspec": {
   "display_name": "Python 3 (ipykernel)",
   "language": "python",
   "name": "python3"
  },
  "language_info": {
   "codemirror_mode": {
    "name": "ipython",
    "version": 3
   },
   "file_extension": ".py",
   "mimetype": "text/x-python",
   "name": "python",
   "nbconvert_exporter": "python",
   "pygments_lexer": "ipython3",
   "version": "3.11.1"
  }
 },
 "nbformat": 4,
 "nbformat_minor": 5
}
